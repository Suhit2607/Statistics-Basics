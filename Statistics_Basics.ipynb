{
  "nbformat": 4,
  "nbformat_minor": 0,
  "metadata": {
    "colab": {
      "provenance": []
    },
    "kernelspec": {
      "name": "python3",
      "display_name": "Python 3"
    },
    "language_info": {
      "name": "python"
    }
  },
  "cells": [
    {
      "cell_type": "markdown",
      "source": [
        "THEORY QUESTIONS"
      ],
      "metadata": {
        "id": "nolh_1weMOvV"
      }
    },
    {
      "cell_type": "markdown",
      "source": [
        "1.  What is statistics, and why is it important\n",
        "\n",
        "  - Statistics is the branch of mathematics that deals with collecting, organizing, analyzing, interpreting, and presenting data. It helps us make sense of numerical information and draw conclusions or make decisions based on data.\n",
        "\n",
        "2. What are the two main types of statistics\n",
        "\n",
        "  - Descriptive Statistics\n",
        "     Inferential Statistics\n",
        "\n",
        "3. What are descriptive statistics\n",
        "\n",
        "  - Descriptive statistics are methods used to summarize, organize, and present data in a meaningful way so that patterns and trends can be easily understood.\n",
        "\n",
        "They do not make predictions or inferences beyond the data — they simply describe what the data shows.\n",
        "\n",
        "4. What is inferential statistics\n",
        "\n",
        "  - Inferential statistics is a branch of statistics that allows us to draw conclusions, make predictions, or test hypotheses about a larger population based on data collected from a sample.\n",
        "\n",
        "5. What is sampling in statistics\n",
        "\n",
        "  - Sampling is the process of selecting a subset (sample) from a larger group (population) to collect data and draw conclusions about the entire population.\n",
        "\n",
        "Since it's often impractical or impossible to study every member of a population (due to time, cost, or access), sampling allows researchers to work with a manageable amount of data while still making reliable inferences.\n",
        "\n",
        "6. What are the different types of sampling methods\n",
        "\n",
        "  - Probability Sampling\n",
        "    Non-Probability Sampling\n",
        "\n",
        "7.  What is the difference between random and non-random sampling\n",
        "\n",
        "  - Random Sampling = Fair and unbiased, everyone has a chance.\n",
        "\n",
        "Non-Random Sampling = Easy but risky, not everyone is considered.\n",
        "\n",
        "8. Define and give examples of qualitative and quantitative data\n",
        "\n",
        "  - Qualitative data describes qualities or characteristics that cannot be measured with numbers. It is usually expressed in words, labels, or categories.\n",
        "\n",
        "9. What are the different types of data in statistics\n",
        "\n",
        "  - Qualitative Data\n",
        "    Quantitative Data\n",
        "\n",
        "10. Explain nominal, ordinal, interval, and ratio levels of measurement\n",
        "\n",
        "  - Nominal Level\n",
        "    Data that consists of names, labels, or categories with no natural order or ranking.\n",
        "    Ordinal Level\n",
        "    Data that can be ordered or ranked, but the differences between values are not measurable or consistent.\n",
        "    Interval Level\n",
        "    Numerical data where differences between values are meaningful, but there is no true zero point.\n",
        "    Ratio Level\n",
        "    Numerical data with all the properties of interval data, but also includes a true zero — making it possible to calculate ratios.\n",
        "\n",
        "11. What is the measure of central tendency\n",
        "\n",
        "  - A measure of central tendency is a statistical value that represents the center or typical value of a dataset. It helps summarize a large set of data with a single representative value, showing where most data points tend to cluster\n",
        "\n",
        "12. Define mean, median, and mode\n",
        "\n",
        "  - Mean = What you usually call “average”\n",
        "\n",
        "Median = The middle value\n",
        "\n",
        "Mode = The most repeated value\n",
        "\n",
        "13.  What is the significance of the measure of central tendency\n",
        "\n",
        "  - Measures of central tendency — mean, median, and mode — are essential tools in statistics because they help us understand the \"center\" or \"typical value\" of a dataset.\n",
        "\n",
        "14. What is variance, and how is it calculated\n",
        "\n",
        "  - Variance is a measure of how spread out or dispersed the values in a dataset are from the mean (average).\n",
        "\n",
        "It tells us:\n",
        "\n",
        "How much the individual data points differ from the mean\n",
        "\n",
        "Whether the data is tightly clustered or widely spread out\n",
        "\n",
        "15. What is standard deviation, and why is it important\n",
        "\n",
        "  - Standard deviation is a measure of the amount of variation or dispersion in a set of values. It tells you how much the data deviates from the mean (average).\n",
        "\n",
        "It is the square root of variance, and gives a measure of spread in the same units as the original data.\n",
        "\n",
        "16. Define and explain the term range in statistics\n",
        "\n",
        "  - In statistics, the range is the simplest measure of dispersion.\n",
        "It tells you the difference between the largest and smallest values in a dataset.\n",
        "\n",
        "17. What is the difference between variance and standard deviation\n",
        "\n",
        "  - Variance tells you how spread out your data is in squared units.\n",
        "\n",
        "Standard deviation tells you the actual spread, using the same unit as the original data.\n",
        "\n",
        "18. What is skewness in a dataset\n",
        "\n",
        "  - Skewness is a statistical measure that describes the asymmetry of the distribution of values in a dataset around the mean.\n",
        "\n",
        "If a dataset is perfectly symmetrical, it has zero skewness.\n",
        "\n",
        "If a dataset is asymmetrical, it shows positive or negative skewness.\n",
        "\n",
        "19. What does it mean if a dataset is positively or negatively skewed\n",
        "\n",
        "  - Positive Skew: A few large values drag the average up.\n",
        "\n",
        "Negative Skew: A few small values drag the average down.\n",
        "\n",
        "Skewness helps you choose the right measure of center and detect outliers or imbalances in the data.\n",
        "\n",
        "20. Define and explain kurtosis\n",
        "\n",
        "  - Kurtosis measures the \"tailedness\" of a probability distribution — that is, how heavily the tails differ from the tails of a normal distribution.\n",
        "\n",
        "21. What is the purpose of covariance\n",
        "\n",
        "  - Covariance is a statistical measure that shows the direction of the relationship between two variables. It tells us how two variables change together — whether they tend to move in the same direction or opposite directions.\n",
        "\n",
        "22. What does correlation measure in statistics\n",
        "\n",
        "  - Correlation measures the strength and direction of the linear relationship between two quantitative variables.\n",
        "\n",
        "It tells you:\n",
        "\n",
        "Whether two variables move together\n",
        "\n",
        "How strongly they are related\n",
        "\n",
        "In which direction they move (together or in opposite directions)\n",
        "\n",
        "23. What is the difference between covariance and correlation\n",
        "\n",
        "  - Covariance shows whether two variables move together, but the value is not standardized and depends on the data’s units.\n",
        "\n",
        "Correlation shows how strongly and in what direction two variables are related, and is unit-free, making it easier to interpret.\n",
        "\n",
        "24. What are some real-world applications of statistics\n",
        "\n",
        "  - clinical trials, disease outbreak tracking, medical diagnostics, hospital resource planning,\n",
        "market research, sales forecasting, quality control, customer segmentation,\n",
        "stock market analysis, risk assessment, insurance premium calculation, economic forecasting,\n",
        "exam result analysis, grading systems, educational research, student performance tracking,\n",
        "census data analysis, crime statistics, public health planning, election polling,\n",
        "product reliability testing, Six Sigma quality control, process optimization,\n",
        "weather forecasting, pollution analysis, natural disaster modeling, climate trend studies,\n",
        "player performance tracking, game strategy planning, injury risk prediction, score prediction,\n",
        "data preprocessing, algorithm training, pattern recognition, predictive modeling,\n",
        "traffic analysis, route optimization, travel demand forecasting, delivery time estimation.\n",
        "\n",
        "\n",
        "\n",
        "\n",
        "\n"
      ],
      "metadata": {
        "id": "vR3sknALMVHs"
      }
    },
    {
      "cell_type": "markdown",
      "source": [
        "Practical"
      ],
      "metadata": {
        "id": "gS5dThM8RWLH"
      }
    },
    {
      "cell_type": "code",
      "execution_count": 1,
      "metadata": {
        "colab": {
          "base_uri": "https://localhost:8080/"
        },
        "id": "fRqKZGeAMLxG",
        "outputId": "8fb35861-2f2a-4b4c-c83b-2e60bba81d8f"
      },
      "outputs": [
        {
          "output_type": "stream",
          "name": "stdout",
          "text": [
            "Mean: 13.714285714285714\n",
            "Median: 14\n",
            "Mode: 14\n"
          ]
        }
      ],
      "source": [
        "#1\n",
        "import statistics as stats\n",
        "\n",
        "data = [12, 15, 14, 10, 18, 14, 13]\n",
        "print(\"Mean:\", stats.mean(data))\n",
        "print(\"Median:\", stats.median(data))\n",
        "print(\"Mode:\", stats.mode(data))\n"
      ]
    },
    {
      "cell_type": "code",
      "source": [
        "#2\n",
        "print(\"Variance:\", stats.variance(data))\n",
        "print(\"Standard Deviation:\", stats.stdev(data))\n"
      ],
      "metadata": {
        "colab": {
          "base_uri": "https://localhost:8080/"
        },
        "id": "Ol1T2OGCR5nE",
        "outputId": "9eac0517-a734-456f-d185-44be1ac5f3b7"
      },
      "execution_count": 2,
      "outputs": [
        {
          "output_type": "stream",
          "name": "stdout",
          "text": [
            "Variance: 6.238095238095238\n",
            "Standard Deviation: 2.4976179127511156\n"
          ]
        }
      ]
    },
    {
      "cell_type": "code",
      "source": [
        "#3\n",
        "# Nominal: Categorical data with no order\n",
        "nominal = [\"Red\", \"Blue\", \"Green\"]\n",
        "\n",
        "# Ordinal: Categories with a logical order\n",
        "ordinal = [\"Low\", \"Medium\", \"High\"]\n",
        "\n",
        "# Interval: Numerical data with no true zero\n",
        "interval = [10, 20, 30]  # e.g., temperature in Celsius\n",
        "\n",
        "# Ratio: Numerical data with a meaningful zero\n",
        "ratio = [40, 60, 80]  # e.g., weight, age\n"
      ],
      "metadata": {
        "id": "yCl__q4WR96A"
      },
      "execution_count": 3,
      "outputs": []
    },
    {
      "cell_type": "code",
      "source": [
        "#4\n",
        "import numpy as np\n",
        "import pandas as pd\n",
        "from sklearn.model_selection import train_test_split\n",
        "\n",
        "# Random sampling\n",
        "data = np.arange(1, 101)\n",
        "random_sample = np.random.choice(data, 10, replace=False)\n",
        "\n",
        "# Stratified sampling\n",
        "df = pd.DataFrame({'Marks': np.random.randint(50, 100, 100),\n",
        "                   'Grade': ['A']*25 + ['B']*25 + ['C']*25 + ['D']*25})\n",
        "X_train, X_test = train_test_split(df, test_size=0.1, stratify=df['Grade'])\n"
      ],
      "metadata": {
        "id": "XydK96c8SA5j"
      },
      "execution_count": 4,
      "outputs": []
    },
    {
      "cell_type": "code",
      "source": [
        "#5\n",
        "def calc_range(data):\n",
        "    return max(data) - min(data)\n",
        "\n",
        "print(\"Range:\", calc_range(data))\n"
      ],
      "metadata": {
        "colab": {
          "base_uri": "https://localhost:8080/"
        },
        "id": "A80R06pJSGjO",
        "outputId": "6d1089a3-1fde-4a70-858e-54b9abc98c21"
      },
      "execution_count": 5,
      "outputs": [
        {
          "output_type": "stream",
          "name": "stdout",
          "text": [
            "Range: 99\n"
          ]
        }
      ]
    },
    {
      "cell_type": "code",
      "source": [
        "#6\n",
        "import matplotlib.pyplot as plt\n",
        "\n",
        "plt.hist(data, bins=7, color='skyblue', edgecolor='black')\n",
        "plt.title(\"Histogram\")\n",
        "plt.xlabel(\"Values\")\n",
        "plt.ylabel(\"Frequency\")\n",
        "plt.show()\n"
      ],
      "metadata": {
        "colab": {
          "base_uri": "https://localhost:8080/",
          "height": 472
        },
        "id": "ARtjbF0dSJk8",
        "outputId": "41930912-1fa0-45ad-db4e-a28e1e2fe8bc"
      },
      "execution_count": 6,
      "outputs": [
        {
          "output_type": "display_data",
          "data": {
            "text/plain": [
              "<Figure size 640x480 with 1 Axes>"
            ],
            "image/png": "[encoded data removed]"
          },
          "metadata": {}
        }
      ]
    },
    {
      "cell_type": "code",
      "source": [
        "#7\n",
        "from scipy.stats import skew, kurtosis\n",
        "\n",
        "print(\"Skewness:\", skew(data))\n",
        "print(\"Kurtosis:\", kurtosis(data))\n"
      ],
      "metadata": {
        "colab": {
          "base_uri": "https://localhost:8080/"
        },
        "id": "ySCV3RWaSOR2",
        "outputId": "0eeb518b-7a0d-4eff-9459-7241ac760ac6"
      },
      "execution_count": 7,
      "outputs": [
        {
          "output_type": "stream",
          "name": "stdout",
          "text": [
            "Skewness: 0.0\n",
            "Kurtosis: -1.2002400240024003\n"
          ]
        }
      ]
    },
    {
      "cell_type": "code",
      "source": [
        "#8\n",
        "import seaborn as sns\n",
        "\n",
        "# Positive skew\n",
        "positive_skew = [1, 2, 2, 3, 4, 10, 20]\n",
        "sns.histplot(positive_skew, kde=True)\n",
        "\n",
        "# Negative skew\n",
        "negative_skew = [20, 18, 17, 15, 12, 5, 1]\n",
        "sns.histplot(negative_skew, kde=True)\n",
        "\n",
        "\n",
        "\n",
        "\n",
        "\n",
        "\n"
      ],
      "metadata": {
        "colab": {
          "base_uri": "https://localhost:8080/",
          "height": 447
        },
        "id": "hGicgnYsSRKF",
        "outputId": "d4526cf4-2333-442e-9c7f-c6d5386912b4"
      },
      "execution_count": 8,
      "outputs": [
        {
          "output_type": "execute_result",
          "data": {
            "text/plain": [
              "<Axes: ylabel='Count'>"
            ]
          },
          "metadata": {},
          "execution_count": 8
        },
        {
          "output_type": "display_data",
          "data": {
            "text/plain": [
              "<Figure size 640x480 with 1 Axes>"
            ],
            "image/png": "[encoded data removed]"
          },
          "metadata": {}
        }
      ]
    },
    {
      "cell_type": "code",
      "source": [
        "#9\n",
        "x = [2, 4, 6, 8]\n",
        "y = [5, 10, 15, 20]\n",
        "cov_matrix = np.cov(x, y, ddof=1)\n",
        "print(\"Covariance:\", cov_matrix[0][1])\n"
      ],
      "metadata": {
        "colab": {
          "base_uri": "https://localhost:8080/"
        },
        "id": "vF2DtcNxSWar",
        "outputId": "3000e84b-ba76-4215-c3c9-ddac65798a22"
      },
      "execution_count": 9,
      "outputs": [
        {
          "output_type": "stream",
          "name": "stdout",
          "text": [
            "Covariance: 16.666666666666664\n"
          ]
        }
      ]
    },
    {
      "cell_type": "code",
      "source": [
        "#10\n",
        "correlation = np.corrcoef(x, y)\n",
        "print(\"Correlation Coefficient:\", correlation[0][1])\n"
      ],
      "metadata": {
        "colab": {
          "base_uri": "https://localhost:8080/"
        },
        "id": "ZWoK9ZaWSZWA",
        "outputId": "62f9aeee-80bf-40a6-8acb-b3636f8adc65"
      },
      "execution_count": 10,
      "outputs": [
        {
          "output_type": "stream",
          "name": "stdout",
          "text": [
            "Correlation Coefficient: 1.0\n"
          ]
        }
      ]
    },
    {
      "cell_type": "code",
      "source": [
        "#11\n",
        "plt.scatter(x, y, color='green')\n",
        "plt.title(\"Scatter Plot\")\n",
        "plt.xlabel(\"X\")\n",
        "plt.ylabel(\"Y\")\n",
        "plt.show()\n"
      ],
      "metadata": {
        "colab": {
          "base_uri": "https://localhost:8080/",
          "height": 472
        },
        "id": "JfDq3f9mSdRF",
        "outputId": "fef1e1ab-affe-4280-db79-305a9f5dcccc"
      },
      "execution_count": 11,
      "outputs": [
        {
          "output_type": "display_data",
          "data": {
            "text/plain": [
              "<Figure size 640x480 with 1 Axes>"
            ],
            "image/png": "[encoded data removed]"
          },
          "metadata": {}
        }
      ]
    },
    {
      "cell_type": "code",
      "source": [
        "#12\n",
        "# Simple random\n",
        "random_sample = np.random.choice(data, 10, replace=False)\n",
        "\n",
        "# Systematic sampling\n",
        "k = 10\n",
        "systematic_sample = [data[i] for i in range(0, len(data), k)]\n"
      ],
      "metadata": {
        "id": "3OiNFR0eSgG6"
      },
      "execution_count": 12,
      "outputs": []
    },
    {
      "cell_type": "code",
      "source": [
        "#13\n",
        "import pandas as pd\n",
        "grouped_data = pd.Series([10, 20, 30, 40, 50],\n",
        "                         index=pd.IntervalIndex.from_tuples([(0, 10), (10, 20), (20, 30), (30, 40), (40, 50)]))\n",
        "mean_grouped = grouped_data.index.mid.to_series().dot(grouped_data) / grouped_data.sum()\n",
        "print(\"Grouped Mean:\", mean_grouped)\n"
      ],
      "metadata": {
        "colab": {
          "base_uri": "https://localhost:8080/",
          "height": 315
        },
        "id": "6Cw41htLSj9C",
        "outputId": "2ca08135-f751-42d7-aeb5-e1b767ce54e7"
      },
      "execution_count": 13,
      "outputs": [
        {
          "output_type": "error",
          "ename": "ValueError",
          "evalue": "matrices are not aligned",
          "traceback": [
            "\u001b[0;31m---------------------------------------------------------------------------\u001b[0m",
            "\u001b[0;31mValueError\u001b[0m                                Traceback (most recent call last)",
            "\u001b[0;32m/tmp/ipython-input-13-1682118171.py\u001b[0m in \u001b[0;36m<cell line: 0>\u001b[0;34m()\u001b[0m\n\u001b[1;32m      3\u001b[0m grouped_data = pd.Series([10, 20, 30, 40, 50],\n\u001b[1;32m      4\u001b[0m                          index=pd.IntervalIndex.from_tuples([(0, 10), (10, 20), (20, 30), (30, 40), (40, 50)]))\n\u001b[0;32m----> 5\u001b[0;31m \u001b[0mmean_grouped\u001b[0m \u001b[0;34m=\u001b[0m \u001b[0mgrouped_data\u001b[0m\u001b[0;34m.\u001b[0m\u001b[0mindex\u001b[0m\u001b[0;34m.\u001b[0m\u001b[0mmid\u001b[0m\u001b[0;34m.\u001b[0m\u001b[0mto_series\u001b[0m\u001b[0;34m(\u001b[0m\u001b[0;34m)\u001b[0m\u001b[0;34m.\u001b[0m\u001b[0mdot\u001b[0m\u001b[0;34m(\u001b[0m\u001b[0mgrouped_data\u001b[0m\u001b[0;34m)\u001b[0m \u001b[0;34m/\u001b[0m \u001b[0mgrouped_data\u001b[0m\u001b[0;34m.\u001b[0m\u001b[0msum\u001b[0m\u001b[0;34m(\u001b[0m\u001b[0;34m)\u001b[0m\u001b[0;34m\u001b[0m\u001b[0;34m\u001b[0m\u001b[0m\n\u001b[0m\u001b[1;32m      6\u001b[0m \u001b[0mprint\u001b[0m\u001b[0;34m(\u001b[0m\u001b[0;34m\"Grouped Mean:\"\u001b[0m\u001b[0;34m,\u001b[0m \u001b[0mmean_grouped\u001b[0m\u001b[0;34m)\u001b[0m\u001b[0;34m\u001b[0m\u001b[0;34m\u001b[0m\u001b[0m\n",
            "\u001b[0;32m/usr/local/lib/python3.11/dist-packages/pandas/core/series.py\u001b[0m in \u001b[0;36mdot\u001b[0;34m(self, other)\u001b[0m\n\u001b[1;32m   3221\u001b[0m             \u001b[0mcommon\u001b[0m \u001b[0;34m=\u001b[0m \u001b[0mself\u001b[0m\u001b[0;34m.\u001b[0m\u001b[0mindex\u001b[0m\u001b[0;34m.\u001b[0m\u001b[0munion\u001b[0m\u001b[0;34m(\u001b[0m\u001b[0mother\u001b[0m\u001b[0;34m.\u001b[0m\u001b[0mindex\u001b[0m\u001b[0;34m)\u001b[0m\u001b[0;34m\u001b[0m\u001b[0;34m\u001b[0m\u001b[0m\n\u001b[1;32m   3222\u001b[0m             \u001b[0;32mif\u001b[0m \u001b[0mlen\u001b[0m\u001b[0;34m(\u001b[0m\u001b[0mcommon\u001b[0m\u001b[0;34m)\u001b[0m \u001b[0;34m>\u001b[0m \u001b[0mlen\u001b[0m\u001b[0;34m(\u001b[0m\u001b[0mself\u001b[0m\u001b[0;34m.\u001b[0m\u001b[0mindex\u001b[0m\u001b[0;34m)\u001b[0m \u001b[0;32mor\u001b[0m \u001b[0mlen\u001b[0m\u001b[0;34m(\u001b[0m\u001b[0mcommon\u001b[0m\u001b[0;34m)\u001b[0m \u001b[0;34m>\u001b[0m \u001b[0mlen\u001b[0m\u001b[0;34m(\u001b[0m\u001b[0mother\u001b[0m\u001b[0;34m.\u001b[0m\u001b[0mindex\u001b[0m\u001b[0;34m)\u001b[0m\u001b[0;34m:\u001b[0m\u001b[0;34m\u001b[0m\u001b[0;34m\u001b[0m\u001b[0m\n\u001b[0;32m-> 3223\u001b[0;31m                 \u001b[0;32mraise\u001b[0m \u001b[0mValueError\u001b[0m\u001b[0;34m(\u001b[0m\u001b[0;34m\"matrices are not aligned\"\u001b[0m\u001b[0;34m)\u001b[0m\u001b[0;34m\u001b[0m\u001b[0;34m\u001b[0m\u001b[0m\n\u001b[0m\u001b[1;32m   3224\u001b[0m \u001b[0;34m\u001b[0m\u001b[0m\n\u001b[1;32m   3225\u001b[0m             \u001b[0mleft\u001b[0m \u001b[0;34m=\u001b[0m \u001b[0mself\u001b[0m\u001b[0;34m.\u001b[0m\u001b[0mreindex\u001b[0m\u001b[0;34m(\u001b[0m\u001b[0mindex\u001b[0m\u001b[0;34m=\u001b[0m\u001b[0mcommon\u001b[0m\u001b[0;34m,\u001b[0m \u001b[0mcopy\u001b[0m\u001b[0;34m=\u001b[0m\u001b[0;32mFalse\u001b[0m\u001b[0;34m)\u001b[0m\u001b[0;34m\u001b[0m\u001b[0;34m\u001b[0m\u001b[0m\n",
            "\u001b[0;31mValueError\u001b[0m: matrices are not aligned"
          ]
        }
      ]
    },
    {
      "cell_type": "code",
      "source": [
        "#14\n",
        "sim_data = np.random.normal(loc=50, scale=10, size=1000)\n",
        "print(\"Mean:\", np.mean(sim_data))\n",
        "print(\"Median:\", np.median(sim_data))\n",
        "print(\"Variance:\", np.var(sim_data))\n",
        "print(\"Standard Deviation:\", np.std(sim_data))\n"
      ],
      "metadata": {
        "colab": {
          "base_uri": "https://localhost:8080/"
        },
        "id": "lfmyhd2gSoGF",
        "outputId": "6d3535dc-265f-4a0f-8927-0f03cb72dada"
      },
      "execution_count": 14,
      "outputs": [
        {
          "output_type": "stream",
          "name": "stdout",
          "text": [
            "Mean: 49.4872563448593\n",
            "Median: 49.58537362119546\n",
            "Variance: 104.44893043138504\n",
            "Standard Deviation: 10.2200259506219\n"
          ]
        }
      ]
    },
    {
      "cell_type": "code",
      "source": [
        "#15\n",
        "import pandas as pd\n",
        "df = pd.DataFrame({'Values': np.random.randint(10, 100, 50)})\n",
        "print(df.describe())\n"
      ],
      "metadata": {
        "colab": {
          "base_uri": "https://localhost:8080/"
        },
        "id": "oniDVDz-Svhz",
        "outputId": "60dbdfef-e959-4def-9a08-6296f9edbb77"
      },
      "execution_count": 15,
      "outputs": [
        {
          "output_type": "stream",
          "name": "stdout",
          "text": [
            "          Values\n",
            "count  50.000000\n",
            "mean   53.820000\n",
            "std    25.381731\n",
            "min    21.000000\n",
            "25%    29.000000\n",
            "50%    51.500000\n",
            "75%    76.250000\n",
            "max    98.000000\n"
          ]
        }
      ]
    },
    {
      "cell_type": "code",
      "source": [
        "#16\n",
        "sns.boxplot(data=df['Values'])\n",
        "plt.title(\"Boxplot\")\n",
        "plt.show()\n"
      ],
      "metadata": {
        "colab": {
          "base_uri": "https://localhost:8080/",
          "height": 433
        },
        "id": "E5lICFgGSyj0",
        "outputId": "0cd61222-fae8-4637-fab8-b1d26378c6c1"
      },
      "execution_count": 16,
      "outputs": [
        {
          "output_type": "display_data",
          "data": {
            "text/plain": [
              "<Figure size 640x480 with 1 Axes>"
            ],
            "image/png": "[encoded data removed]"
          },
          "metadata": {}
        }
      ]
    },
    {
      "cell_type": "code",
      "source": [
        "#17\n",
        "Q1 = np.percentile(df['Values'], 25)\n",
        "Q3 = np.percentile(df['Values'], 75)\n",
        "IQR = Q3 - Q1\n",
        "print(\"Interquartile Range (IQR):\", IQR)\n"
      ],
      "metadata": {
        "colab": {
          "base_uri": "https://localhost:8080/"
        },
        "id": "Bh8FDYjFS4VA",
        "outputId": "32224945-24ad-447d-a12e-8cc6675deee1"
      },
      "execution_count": 17,
      "outputs": [
        {
          "output_type": "stream",
          "name": "stdout",
          "text": [
            "Interquartile Range (IQR): 47.25\n"
          ]
        }
      ]
    },
    {
      "cell_type": "code",
      "source": [
        "#18\n",
        "from scipy.stats import zscore\n",
        "z_scores = zscore(df['Values'])\n",
        "print(z_scores)\n"
      ],
      "metadata": {
        "colab": {
          "base_uri": "https://localhost:8080/"
        },
        "id": "Vu9t7j_2S7Dh",
        "outputId": "a1cd01fa-71a3-403e-9a56-8b756e771a6f"
      },
      "execution_count": 18,
      "outputs": [
        {
          "output_type": "stream",
          "name": "stdout",
          "text": [
            "[ 0.56434147  1.59910016 -0.98779656  0.12655895 -0.47041722 -0.98779656\n",
            "  1.32051128  1.08172081 -0.43061881  0.76333352 -0.62961086  0.56434147\n",
            " -0.86840133  0.92252717  0.80313193  1.28071287 -1.02759497 -1.22658703\n",
            " -1.30618385 -0.94799815 -1.18678862 -1.18678862 -1.22658703 -1.10719179\n",
            "  0.56434147  1.28071287 -0.98779656  0.24595418 -0.31122357 -0.70920768\n",
            "  0.40514782  0.96232558  1.67869698  1.0419224   0.92252717 -0.47041722\n",
            " -0.86840133 -0.7490061  -1.26638544  0.44494624 -1.14699021 -1.06739338\n",
            "  0.80313193  0.20615577  1.63889857 -0.66940927  1.28071287  1.7582938\n",
            " -1.22658703  0.80313193]\n"
          ]
        }
      ]
    },
    {
      "cell_type": "code",
      "source": [
        "#19\n",
        "data1 = np.random.normal(50, 5, 100)\n",
        "data2 = np.random.normal(50, 15, 100)\n",
        "\n",
        "print(\"SD of data1:\", np.std(data1))\n",
        "print(\"SD of data2:\", np.std(data2))\n"
      ],
      "metadata": {
        "colab": {
          "base_uri": "https://localhost:8080/"
        },
        "id": "3aQK85HkS-fH",
        "outputId": "ec48f893-ad64-4d32-b41b-5079d9595b4c"
      },
      "execution_count": 19,
      "outputs": [
        {
          "output_type": "stream",
          "name": "stdout",
          "text": [
            "SD of data1: 5.305033334333985\n",
            "SD of data2: 15.445970693721815\n"
          ]
        }
      ]
    },
    {
      "cell_type": "code",
      "source": [
        "#20\n",
        "import seaborn as sns\n",
        "\n",
        "df2 = pd.DataFrame({'A': np.random.randint(10, 100, 100),\n",
        "                    'B': np.random.randint(10, 100, 100)})\n",
        "sns.heatmap(df2.cov(), annot=True, cmap=\"YlGnBu\")\n",
        "plt.title(\"Covariance Heatmap\")\n",
        "plt.show()\n"
      ],
      "metadata": {
        "colab": {
          "base_uri": "https://localhost:8080/",
          "height": 452
        },
        "id": "MyaDOAb5TEtj",
        "outputId": "7ec3e26c-c865-4c74-a216-2d46b89192a3"
      },
      "execution_count": 20,
      "outputs": [
        {
          "output_type": "display_data",
          "data": {
            "text/plain": [
              "<Figure size 640x480 with 2 Axes>"
            ],
            "image/png": "[encoded data removed]"
          },
          "metadata": {}
        }
      ]
    },
    {
      "cell_type": "code",
      "source": [
        "#21\n",
        "sns.heatmap(df2.corr(), annot=True, cmap=\"coolwarm\")\n",
        "plt.title(\"Correlation Matrix\")\n",
        "plt.show()\n"
      ],
      "metadata": {
        "colab": {
          "base_uri": "https://localhost:8080/",
          "height": 452
        },
        "id": "I5k-3S8-TIMc",
        "outputId": "2ba4f39f-dc2a-4052-e118-2e06e76826e8"
      },
      "execution_count": 21,
      "outputs": [
        {
          "output_type": "display_data",
          "data": {
            "text/plain": [
              "<Figure size 640x480 with 2 Axes>"
            ],
            "image/png": "[encoded data removed]"
          },
          "metadata": {}
        }
      ]
    },
    {
      "cell_type": "code",
      "source": [
        "#22\n",
        "print(\"Variance:\", np.var(df2['A']))\n",
        "print(\"Standard Deviation:\", np.std(df2['A']))\n"
      ],
      "metadata": {
        "colab": {
          "base_uri": "https://localhost:8080/"
        },
        "id": "SNC-zrDGTKtH",
        "outputId": "1b45c3ff-64f2-4181-e4e1-16ee8cf32681"
      },
      "execution_count": 22,
      "outputs": [
        {
          "output_type": "stream",
          "name": "stdout",
          "text": [
            "Variance: 616.4775999999997\n",
            "Standard Deviation: 24.828966953943123\n"
          ]
        }
      ]
    },
    {
      "cell_type": "code",
      "source": [
        "#23\n",
        "sns.histplot(df2['A'], kde=True)\n",
        "print(\"Skewness:\", skew(df2['A']))\n",
        "print(\"Kurtosis:\", kurtosis(df2['A']))\n"
      ],
      "metadata": {
        "colab": {
          "base_uri": "https://localhost:8080/",
          "height": 484
        },
        "id": "KGV7bHsZTOIP",
        "outputId": "318917d6-54c6-4423-9c5e-dae8caff5571"
      },
      "execution_count": 23,
      "outputs": [
        {
          "output_type": "stream",
          "name": "stdout",
          "text": [
            "Skewness: -0.06959338370751136\n",
            "Kurtosis: -1.188383560803293\n"
          ]
        },
        {
          "output_type": "display_data",
          "data": {
            "text/plain": [
              "<Figure size 640x480 with 1 Axes>"
            ],
            "image/png": "[encoded data removed]"
          },
          "metadata": {}
        }
      ]
    },
    {
      "cell_type": "code",
      "source": [
        "#24\n",
        "from scipy.stats import pearsonr, spearmanr\n",
        "\n",
        "pearson_corr, _ = pearsonr(df2['A'], df2['B'])\n",
        "spearman_corr, _ = spearmanr(df2['A'], df2['B'])\n",
        "\n",
        "print(\"Pearson Correlation:\", pearson_corr)\n",
        "print(\"Spearman Correlation:\", spearman_corr)\n"
      ],
      "metadata": {
        "colab": {
          "base_uri": "https://localhost:8080/"
        },
        "id": "sj2gugcfTQv9",
        "outputId": "facabffe-772c-4e18-c693-c61c204f9781"
      },
      "execution_count": 24,
      "outputs": [
        {
          "output_type": "stream",
          "name": "stdout",
          "text": [
            "Pearson Correlation: 0.161257671704054\n",
            "Spearman Correlation: 0.16736154286671684\n"
          ]
        }
      ]
    },
    {
      "cell_type": "code",
      "source": [],
      "metadata": {
        "id": "9HFgSbdFTUNI"
      },
      "execution_count": null,
      "outputs": []
    }
  ]
}